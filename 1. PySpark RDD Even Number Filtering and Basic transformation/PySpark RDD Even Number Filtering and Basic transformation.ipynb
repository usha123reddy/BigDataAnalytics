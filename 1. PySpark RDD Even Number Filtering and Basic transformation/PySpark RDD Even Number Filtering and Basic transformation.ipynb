{
 "cells": [
  {
   "cell_type": "code",
   "execution_count": 1,
   "id": "5ebfcfd7-7592-4350-911d-9a7113d5ef15",
   "metadata": {},
   "outputs": [
    {
     "data": {
      "text/plain": [
       "''"
      ]
     },
     "execution_count": 1,
     "metadata": {},
     "output_type": "execute_result"
    }
   ],
   "source": [
    "sc"
   ]
  },
  {
   "cell_type": "code",
   "execution_count": 2,
   "id": "93f87240-b445-4711-879a-7c77d3fb38c5",
   "metadata": {},
   "outputs": [],
   "source": [
    "import findspark\n",
    "findspark.init()\n",
    "\n",
    "from pyspark.sql import SparkSession\n",
    "\n",
    "# Create Spark Session (this will also create SparkContext internally)\n",
    "spark = SparkSession.builder \\\n",
    "    .appName(\"MySparkApp\") \\\n",
    "    .getOrCreate()\n",
    "\n",
    "sc = spark.sparkContext   # get SparkContext\n"
   ]
  },
  {
   "cell_type": "code",
   "execution_count": 3,
   "id": "9be9994e-16d0-4bec-bd7c-7b9f31ddd86e",
   "metadata": {},
   "outputs": [
    {
     "data": {
      "text/html": [
       "\n",
       "        <div>\n",
       "            <p><b>SparkContext</b></p>\n",
       "\n",
       "            <p><a href=\"http://LAPTOP-N87Q0U5U:4041\">Spark UI</a></p>\n",
       "\n",
       "            <dl>\n",
       "              <dt>Version</dt>\n",
       "                <dd><code>v4.0.1</code></dd>\n",
       "              <dt>Master</dt>\n",
       "                <dd><code>local[*]</code></dd>\n",
       "              <dt>AppName</dt>\n",
       "                <dd><code>MySparkApp</code></dd>\n",
       "            </dl>\n",
       "        </div>\n",
       "        "
      ],
      "text/plain": [
       "<SparkContext master=local[*] appName=MySparkApp>"
      ]
     },
     "execution_count": 3,
     "metadata": {},
     "output_type": "execute_result"
    }
   ],
   "source": [
    "sc"
   ]
  },
  {
   "cell_type": "code",
   "execution_count": 4,
   "id": "8299910c-0e85-4282-8688-fa0c972a408a",
   "metadata": {},
   "outputs": [],
   "source": [
    "import random"
   ]
  },
  {
   "cell_type": "code",
   "execution_count": 6,
   "id": "07701f42-3dc6-4827-bf62-303930bcf166",
   "metadata": {},
   "outputs": [
    {
     "name": "stdout",
     "output_type": "stream",
     "text": [
      "Original List:\n",
      "[288, 914, 381, 483, 257, 691, 846, 655, 307, 925, 623, 502, 962, 200, 784, 803, 799, 961, 502, 869, 779, 267, 133, 711, 499, 641, 627, 509, 867, 1, 261, 956, 456, 201, 151, 73, 579, 971, 638, 90, 325, 409, 268, 34, 889, 126, 187, 957, 354, 548, 600, 741, 485, 276, 335, 167, 643, 978, 205, 107, 373, 628, 743, 147, 444, 480, 361, 706, 570, 720, 273, 122, 588, 994, 406, 808, 606, 620, 991, 938, 633, 115, 488, 671, 481, 73, 726, 241, 349, 66, 188, 562, 646, 525, 517, 56, 110, 173, 690, 821]\n"
     ]
    }
   ],
   "source": [
    "random_numbers = [random.randint(1, 1000) for _ in range(100)]\n",
    "print(\"Original List:\")\n",
    "print(random_numbers)\n"
   ]
  },
  {
   "cell_type": "code",
   "execution_count": 7,
   "id": "b96b5094-c456-4fc4-8539-dc7a8573df61",
   "metadata": {},
   "outputs": [],
   "source": [
    "numbers_rdd = sc.parallelize(random_numbers)"
   ]
  },
  {
   "cell_type": "code",
   "execution_count": 8,
   "id": "244882eb-708b-4a7b-b087-7a6615700c01",
   "metadata": {},
   "outputs": [],
   "source": [
    "even_numbers_rdd = numbers_rdd.filter(lambda x: x % 2 == 0)"
   ]
  },
  {
   "cell_type": "code",
   "execution_count": 10,
   "id": "9aa0cb2b-baee-41ad-bccc-3290010f79f9",
   "metadata": {},
   "outputs": [
    {
     "name": "stdout",
     "output_type": "stream",
     "text": [
      "\n",
      "Even Numbers:\n",
      "[288, 914, 846, 502, 962, 200, 784, 502, 956, 456, 638, 90, 268, 34, 126, 354, 548, 600, 276, 978, 628, 444, 480, 706, 570, 720, 122, 588, 994, 406, 808, 606, 620, 938, 488, 726, 66, 188, 562, 646, 56, 110, 690]\n"
     ]
    }
   ],
   "source": [
    "# Step 5: Collect results\n",
    "even_numbers = even_numbers_rdd.collect()\n",
    "print(\"\\nEven Numbers:\") \n",
    "print(even_numbers)\n",
    "\n"
   ]
  },
  {
   "cell_type": "code",
   "execution_count": null,
   "id": "731f65b8-7036-402e-a750-ca7f3df708f8",
   "metadata": {},
   "outputs": [],
   "source": []
  }
 ],
 "metadata": {
  "kernelspec": {
   "display_name": "Python 3 (ipykernel)",
   "language": "python",
   "name": "python3"
  },
  "language_info": {
   "codemirror_mode": {
    "name": "ipython",
    "version": 3
   },
   "file_extension": ".py",
   "mimetype": "text/x-python",
   "name": "python",
   "nbconvert_exporter": "python",
   "pygments_lexer": "ipython3",
   "version": "3.11.0"
  }
 },
 "nbformat": 4,
 "nbformat_minor": 5
}
