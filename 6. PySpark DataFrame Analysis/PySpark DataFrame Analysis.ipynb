{
 "cells": [
  {
   "cell_type": "code",
   "execution_count": 1,
   "id": "0faf71ff-d307-4dd3-97d6-7098ae2792f6",
   "metadata": {},
   "outputs": [],
   "source": [
    "import findspark\n",
    "findspark.init()\n",
    "\n",
    "from pyspark.sql import SparkSession\n",
    "\n",
    "# Create Spark Session (this will also create SparkContext internally)\n",
    "spark = SparkSession.builder \\\n",
    "    .appName(\"MySparkApp\") \\\n",
    "    .getOrCreate()\n",
    "\n",
    "sc = spark.sparkContext   # get SparkContext\n"
   ]
  },
  {
   "cell_type": "code",
   "execution_count": 2,
   "id": "1e9af91c-9c56-4047-8f13-68d696b70c9a",
   "metadata": {},
   "outputs": [
    {
     "data": {
      "text/html": [
       "\n",
       "        <div>\n",
       "            <p><b>SparkContext</b></p>\n",
       "\n",
       "            <p><a href=\"http://LAPTOP-N87Q0U5U:4046\">Spark UI</a></p>\n",
       "\n",
       "            <dl>\n",
       "              <dt>Version</dt>\n",
       "                <dd><code>v4.0.1</code></dd>\n",
       "              <dt>Master</dt>\n",
       "                <dd><code>local[*]</code></dd>\n",
       "              <dt>AppName</dt>\n",
       "                <dd><code>MySparkApp</code></dd>\n",
       "            </dl>\n",
       "        </div>\n",
       "        "
      ],
      "text/plain": [
       "<SparkContext master=local[*] appName=MySparkApp>"
      ]
     },
     "execution_count": 2,
     "metadata": {},
     "output_type": "execute_result"
    }
   ],
   "source": [
    "sc"
   ]
  },
  {
   "cell_type": "code",
   "execution_count": 3,
   "id": "7cbca3d5-9134-453c-b5ea-38db690423ae",
   "metadata": {},
   "outputs": [],
   "source": [
    "from pyspark.sql import SparkSession\n",
    "from pyspark.sql.functions import col, avg, max, min, round, count\n",
    "\n",
    "spark = SparkSession.builder.appName(\"StudentsAnalytics\").getOrCreate()\n"
   ]
  },
  {
   "cell_type": "code",
   "execution_count": 4,
   "id": "45975525-8aa6-4160-8d1e-10044e9d8378",
   "metadata": {},
   "outputs": [],
   "source": [
    "df = spark.read.csv(\"C:\\\\Users\\\\SAI MANIKANTA\\\\OneDrive\\\\Desktop\\\\students.csv\", header=True, inferSchema=True)\n"
   ]
  },
  {
   "cell_type": "code",
   "execution_count": 5,
   "id": "a58e6d04-8d2d-4583-9369-29cf59f3eff6",
   "metadata": {},
   "outputs": [
    {
     "name": "stdout",
     "output_type": "stream",
     "text": [
      "=== Students with math >= 80 ===\n",
      "+---+-----+----+\n",
      "| id| name|math|\n",
      "+---+-----+----+\n",
      "|  2|  Bob|  82|\n",
      "|  4|David|  95|\n",
      "| 11|Kathy|  85|\n",
      "+---+-----+----+\n",
      "only showing top 3 rows\n"
     ]
    }
   ],
   "source": [
    "print(\"=== Students with math >= 80 ===\")\n",
    "df.filter(col(\"math\") >= 80).select(\"id\", \"name\", \"math\").show(3)\n"
   ]
  },
  {
   "cell_type": "code",
   "execution_count": 6,
   "id": "d73de2d3-d8da-4925-954e-312bf9057c74",
   "metadata": {},
   "outputs": [
    {
     "name": "stdout",
     "output_type": "stream",
     "text": [
      "=== Average marks per subject ===\n",
      "+--------+-----------+-----------+\n",
      "|avg_math|avg_science|avg_english|\n",
      "+--------+-----------+-----------+\n",
      "|   68.94|      70.16|      69.36|\n",
      "+--------+-----------+-----------+\n",
      "\n"
     ]
    }
   ],
   "source": [
    "print(\"=== Average marks per subject ===\")\n",
    "df.select(\n",
    "    round(avg(\"math\"),2).alias(\"avg_math\"),\n",
    "    round(avg(\"science\"),2).alias(\"avg_science\"),\n",
    "    round(avg(\"english\"),2).alias(\"avg_english\")\n",
    ").show()\n"
   ]
  },
  {
   "cell_type": "code",
   "execution_count": null,
   "id": "8c0b92d6-137d-40e5-a6d2-59e802149e09",
   "metadata": {},
   "outputs": [],
   "source": []
  }
 ],
 "metadata": {
  "kernelspec": {
   "display_name": "Python 3 (ipykernel)",
   "language": "python",
   "name": "python3"
  },
  "language_info": {
   "codemirror_mode": {
    "name": "ipython",
    "version": 3
   },
   "file_extension": ".py",
   "mimetype": "text/x-python",
   "name": "python",
   "nbconvert_exporter": "python",
   "pygments_lexer": "ipython3",
   "version": "3.11.0"
  }
 },
 "nbformat": 4,
 "nbformat_minor": 5
}
